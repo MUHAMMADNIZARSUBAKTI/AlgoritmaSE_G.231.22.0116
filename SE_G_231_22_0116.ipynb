{
  "nbformat": 4,
  "nbformat_minor": 0,
  "metadata": {
    "colab": {
      "provenance": []
    },
    "kernelspec": {
      "name": "python3",
      "display_name": "Python 3"
    },
    "language_info": {
      "name": "python"
    }
  },
  "cells": [
    {
      "cell_type": "code",
      "execution_count": 2,
      "metadata": {
        "colab": {
          "base_uri": "https://localhost:8080/"
        },
        "id": "v4IHONTFOI8g",
        "outputId": "da1a2265-0dcf-4a47-da70-5344e7d8721c"
      },
      "outputs": [
        {
          "name": "stdout",
          "output_type": "stream",
          "text": [
            "search website: JKT48\n",
            "search: https://jkt48.com/?lang=\n"
          ]
        }
      ],
      "source": [
        "import webbrowser\n",
        "website = input(\"search website: \")\n",
        "\n",
        "if website == \"google\":\n",
        "    name = input(\"search: \")\n",
        "    webbrowser.open(\"https://www.google.com/search?q=\" + name)\n",
        "elif website == \"youtube\":\n",
        "    name = input(\"search: \")\n",
        "    webbrowser.open(\"https://www.youtube.com/results?search_query=\" + name)\n",
        "elif website == \"JKT48\":\n",
        "    name = input(\"search: \")\n",
        "    webbrowser.open(\"https://jkt48.com/?lang=\" + name)\n",
        "elif website == \"Twitter\":\n",
        "    name = input(\"search: \")\n",
        "    webbrowser.open(\"https://twitter.com/?lang=\" + name)\n",
        "\n",
        "else:\n",
        "    print(\"ketikan google/youtube/JKT48/Twitter\")\n",
        "\n"
      ]
    }
  ]
}